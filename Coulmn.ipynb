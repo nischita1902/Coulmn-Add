{
  "nbformat": 4,
  "nbformat_minor": 0,
  "metadata": {
    "colab": {
      "provenance": []
    },
    "kernelspec": {
      "name": "python3",
      "display_name": "Python 3"
    },
    "language_info": {
      "name": "python"
    }
  },
  "cells": [
    {
      "cell_type": "code",
      "execution_count": 1,
      "metadata": {
        "colab": {
          "base_uri": "https://localhost:8080/"
        },
        "id": "SWqf64V8JTXj",
        "outputId": "2c4b1ccd-7134-4cc9-ac45-14e78b3adb96"
      },
      "outputs": [
        {
          "output_type": "stream",
          "name": "stdout",
          "text": [
            "        ship_mode  sales  profit  surcharge  total_cost\n",
            "0        Same Day    100      20        2.0       240.0\n",
            "1     First Class    150      30        1.0       240.0\n",
            "2  Standard Class    200      40        0.5       240.0\n",
            "3    Second Class    120      25        0.0        95.0\n",
            "4         Express    180      35        0.0       145.0\n"
          ]
        }
      ],
      "source": [
        "\n",
        "\n",
        "import pandas as pd\n",
        "\n",
        "# Sample data\n",
        "data = {\n",
        "    'ship_mode': [\"Same Day\", \"First Class\", \"Standard Class\", \"Second Class\", \"Express\"],\n",
        "    'sales': [100, 150, 200, 120, 180],\n",
        "    'profit': [20, 30, 40, 25, 35]\n",
        "}\n",
        "\n",
        "# Create a DataFrame from the sample data\n",
        "df = pd.DataFrame(data)\n",
        "\n",
        "# Define a function to calculate the surcharge based on ship_mode\n",
        "def calculate_surcharge(ship_mode):\n",
        "    if ship_mode == \"Same Day\":\n",
        "        return 0.2 * 10\n",
        "    elif ship_mode == \"First Class\":\n",
        "        return 0.1 * 10\n",
        "    elif ship_mode == \"Standard Class\":\n",
        "        return 0.05 * 10\n",
        "    else:\n",
        "        return 0\n",
        "\n",
        "# Apply the calculate_surcharge function to create the \"surcharge\" column\n",
        "df['surcharge'] = df['ship_mode'].apply(calculate_surcharge)\n",
        "\n",
        "# Calculate the \"total cost\" column\n",
        "df['total_cost'] = (df['sales'] - df['profit']) * (1 + df['surcharge'])\n",
        "\n",
        "# Print the resulting DataFrame\n",
        "print(df)\n"
      ]
    }
  ]
}